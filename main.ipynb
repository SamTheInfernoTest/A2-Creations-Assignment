{
 "cells": [
  {
   "cell_type": "code",
   "execution_count": 3,
   "metadata": {},
   "outputs": [
    {
     "name": "stdout",
     "output_type": "stream",
     "text": [
      "                                                name                      id  \\\n",
      "0  Longchamp women's large tote bag, handbag, sho...  ZE94894E319EC24478F43Z   \n",
      "1  4-Pair Non-slip Yoga Socks, Cotton Pilates Soc...  Z249EBB45716CC045A863Z   \n",
      "2  Longchamp Women's Mini Makeup Bag, Handbag, Sh...  ZA63BF70F800CF9C3D86DZ   \n",
      "3  8MM Yoga Mat with Carrying Strap Anti-Slip for...  Z24E1B5B4FDE8BB5C6111Z   \n",
      "4  Longchamp Le Pliage Original Large Black Tote ...  Z806209A62BA1D05C47E5Z   \n",
      "\n",
      "       brand   brand_id  price  sale_price  \\\n",
      "0  Longchamp  longchamp  399.9       161.7   \n",
      "1      Lemon      lemon   56.0        39.2   \n",
      "2  Longchamp  longchamp  399.9       147.5   \n",
      "3   Bernessi   bernessi  165.0        69.9   \n",
      "4  Longchamp  longchamp  165.0         NaN   \n",
      "\n",
      "                                           image_key  \n",
      "0  pzsku/ZE94894E319EC24478F43Z/45/_/1724907436/3...  \n",
      "1  pzsku/Z249EBB45716CC045A863Z/45/_/1731035054/0...  \n",
      "2  pzsku/ZA63BF70F800CF9C3D86DZ/45/_/1724907073/1...  \n",
      "3  pzsku/Z24E1B5B4FDE8BB5C6111Z/45/_/1696545863/4...  \n",
      "4  pzsku/Z806209A62BA1D05C47E5Z/45/_/1731037357/b...  \n"
     ]
    }
   ],
   "source": [
    "import pandas as pd\n",
    "import json\n",
    "\n",
    "# JSON data\n",
    "# Open the file with UTF-8 encoding\n",
    "with open(\"data.json\", \"r\", encoding=\"utf-8\") as file:\n",
    "    json_data = json.load(file)\n",
    "\n",
    "\n",
    "# Convert JSON to DataFrame\n",
    "df = pd.DataFrame(json_data)\n",
    "\n",
    "# Remove duplicates based on the 'id' column\n",
    "df_unique = df.drop_duplicates(subset=\"id\")\n",
    "\n",
    "print(df_unique.head())\n",
    "\n",
    "# Optionally, you can save this unique data to a CSV file\n",
    "df_unique.to_csv(\"final_data.csv\", index=False)\n"
   ]
  },
  {
   "cell_type": "code",
   "execution_count": 5,
   "metadata": {},
   "outputs": [
    {
     "name": "stdout",
     "output_type": "stream",
     "text": [
      "<class 'pandas.core.frame.DataFrame'>\n",
      "Index: 2234 entries, 0 to 3415\n",
      "Data columns (total 7 columns):\n",
      " #   Column      Non-Null Count  Dtype  \n",
      "---  ------      --------------  -----  \n",
      " 0   name        2234 non-null   object \n",
      " 1   id          2234 non-null   object \n",
      " 2   brand       2234 non-null   object \n",
      " 3   brand_id    2234 non-null   object \n",
      " 4   price       2234 non-null   float64\n",
      " 5   sale_price  1048 non-null   float64\n",
      " 6   image_key   2234 non-null   object \n",
      "dtypes: float64(2), object(5)\n",
      "memory usage: 139.6+ KB\n"
     ]
    }
   ],
   "source": [
    "df_unique.info()"
   ]
  },
  {
   "cell_type": "code",
   "execution_count": 6,
   "metadata": {},
   "outputs": [
    {
     "name": "stdout",
     "output_type": "stream",
     "text": [
      "                                                name                      id  \\\n",
      "0  Longchamp women's large tote bag, handbag, sho...  ZE94894E319EC24478F43Z   \n",
      "1  4-Pair Non-slip Yoga Socks, Cotton Pilates Soc...  Z249EBB45716CC045A863Z   \n",
      "2  Longchamp Women's Mini Makeup Bag, Handbag, Sh...  ZA63BF70F800CF9C3D86DZ   \n",
      "3  8MM Yoga Mat with Carrying Strap Anti-Slip for...  Z24E1B5B4FDE8BB5C6111Z   \n",
      "4  Longchamp Le Pliage Original Large Black Tote ...  Z806209A62BA1D05C47E5Z   \n",
      "\n",
      "       brand   brand_id  price  sale_price  \\\n",
      "0  Longchamp  longchamp  399.9       161.7   \n",
      "1      Lemon      lemon   56.0        39.2   \n",
      "2  Longchamp  longchamp  399.9       147.5   \n",
      "3   Bernessi   bernessi  165.0        69.9   \n",
      "4  Longchamp  longchamp  165.0         NaN   \n",
      "\n",
      "                                           image_key  \n",
      "0  pzsku/ZE94894E319EC24478F43Z/45/_/1724907436/3...  \n",
      "1  pzsku/Z249EBB45716CC045A863Z/45/_/1731035054/0...  \n",
      "2  pzsku/ZA63BF70F800CF9C3D86DZ/45/_/1724907073/1...  \n",
      "3  pzsku/Z24E1B5B4FDE8BB5C6111Z/45/_/1696545863/4...  \n",
      "4  pzsku/Z806209A62BA1D05C47E5Z/45/_/1731037357/b...  \n"
     ]
    },
    {
     "name": "stderr",
     "output_type": "stream",
     "text": [
      "C:\\Users\\saura\\AppData\\Local\\Temp\\ipykernel_24024\\2897405358.py:1: SettingWithCopyWarning: \n",
      "A value is trying to be set on a copy of a slice from a DataFrame.\n",
      "Try using .loc[row_indexer,col_indexer] = value instead\n",
      "\n",
      "See the caveats in the documentation: https://pandas.pydata.org/pandas-docs/stable/user_guide/indexing.html#returning-a-view-versus-a-copy\n",
      "  df_unique['sale_price'] = df_unique['sale_price'].fillna(df_unique['price'])\n"
     ]
    }
   ],
   "source": [
    "df_unique['sale_price'] = df_unique['sale_price'].fillna(df_unique['price'])\n",
    "\n",
    "# Display the updated DataFrame\n",
    "print(df.head())"
   ]
  },
  {
   "cell_type": "code",
   "execution_count": 7,
   "metadata": {},
   "outputs": [
    {
     "name": "stdout",
     "output_type": "stream",
     "text": [
      "<class 'pandas.core.frame.DataFrame'>\n",
      "Index: 2234 entries, 0 to 3415\n",
      "Data columns (total 7 columns):\n",
      " #   Column      Non-Null Count  Dtype  \n",
      "---  ------      --------------  -----  \n",
      " 0   name        2234 non-null   object \n",
      " 1   id          2234 non-null   object \n",
      " 2   brand       2234 non-null   object \n",
      " 3   brand_id    2234 non-null   object \n",
      " 4   price       2234 non-null   float64\n",
      " 5   sale_price  2234 non-null   float64\n",
      " 6   image_key   2234 non-null   object \n",
      "dtypes: float64(2), object(5)\n",
      "memory usage: 139.6+ KB\n"
     ]
    }
   ],
   "source": [
    "df_unique.info()"
   ]
  },
  {
   "cell_type": "code",
   "execution_count": 11,
   "metadata": {},
   "outputs": [],
   "source": [
    "\n",
    "df_unique.to_csv('final_data.csv', index=False)"
   ]
  },
  {
   "cell_type": "code",
   "execution_count": null,
   "metadata": {},
   "outputs": [],
   "source": []
  }
 ],
 "metadata": {
  "kernelspec": {
   "display_name": "webScraper",
   "language": "python",
   "name": "python3"
  },
  "language_info": {
   "codemirror_mode": {
    "name": "ipython",
    "version": 3
   },
   "file_extension": ".py",
   "mimetype": "text/x-python",
   "name": "python",
   "nbconvert_exporter": "python",
   "pygments_lexer": "ipython3",
   "version": "3.13.0"
  }
 },
 "nbformat": 4,
 "nbformat_minor": 2
}
